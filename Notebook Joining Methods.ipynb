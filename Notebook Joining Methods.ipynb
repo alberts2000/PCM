{
 "cells": [
  {
   "cell_type": "markdown",
   "metadata": {},
   "source": [
    "## Joining Methods (20 points)"
   ]
  },
  {
   "cell_type": "code",
   "execution_count": null,
   "metadata": {},
   "outputs": [],
   "source": [
    "#import packages here\n",
    "import numpy as np\n",
    "import matplotlib.pyplot as plt\n",
    "import matplotlib"
   ]
  },
  {
   "cell_type": "markdown",
   "metadata": {},
   "source": [
    "#### In this notebook, several aspects of joining methods will be considered."
   ]
  },
  {
   "cell_type": "markdown",
   "metadata": {},
   "source": [
    "### Question 1.1 (3 points)\n",
    "\n",
    "#### Two carbon fibre parts are to be adhesively bonded, as in the figure below. The following information is provided: Adherends Youngs modulus = 70 GPa, adherends thickness = 2 mm, adherends width = 20 mm, adhesive shear modulus = 2.0 GPa, adhesive thickness = 0.3 mm, overlap length = 30 mm. The bonded part will be subjected to a tensile load of 50 kN.\n",
    "\n",
    "#### - In the lectures you learned about the shear-stress distribution of such a joint. Plot the shear stress distribution over the lap joint for several overlap lengths (including at least: 10, 15, 20, 30, and 50 mm) according to the Klein model. Comment on the results.\n",
    "\n",
    "#### - Then, repeat the exercise using the Volkersen model instead. What are the most notable differences?"
   ]
  },
  {
   "cell_type": "markdown",
   "metadata": {},
   "source": [
    "![title](lapjoint.png)"
   ]
  },
  {
   "cell_type": "code",
   "execution_count": null,
   "metadata": {},
   "outputs": [],
   "source": [
    "# Storing material properties in a convenient way\n",
    "class Material:\n",
    "    def __init__(self, G_kl=1, E1=1, t1=1, E2=1, t2=1, lu=1, d=1, b=1):\n",
    "        self.G_kl = G_kl # shear modulus of the adhesive\n",
    "        self.E1 = E1 # stiffness of the bottom sheet\n",
    "        self.t1 = t1 # thickness of the bottom sheet\n",
    "        self.E2 = E2 # stiffness of the top sheet\n",
    "        self.t2 = t2 # thickness of the top sheet\n",
    "        self.lu = lu # length of the joint\n",
    "        self.d = d # thickness if the adhesive\n",
    "        self.b = b # width of the panel\n",
    "\n",
    "\n",
    "def klein_model(N, Mat, F_applied):\n",
    "    G_kl, E1, t1, E2, t2, lu, d, b = (Mat.G_kl, Mat.E1, Mat.t1, Mat.E2, Mat.t2, Mat.lu, Mat.d, Mat.b)\n",
    "    x_array = np.linspace(0, lu, N)\n",
    "\n",
    "    tau_mean = F_applied / b / lu\n",
    "    beta = ((E2 * t2 - E1 * t1) * G_kl * lu ** 2) / (E1 * t1 * (G_kl * lu**2 + E2 * t2 * d))\n",
    "    omega = np.sqrt((G_kl * (E1 * t1 + E2 * t2) * lu ** 2) / (E1 * t1 * E2 * t2 * d))\n",
    "\n",
    "    # Coeffs k used to split up the equation and make it more readable\n",
    "    k1 = omega * tau_mean / (beta + 2) / (np.cosh(omega) - 1)\n",
    "    k2 = np.sinh(omega * (1 - x_array / lu))\n",
    "    k3 = (beta + 1) * np.sinh(omega * x_array / lu)\n",
    "    return x_array, k1 * (k2 + k3)\n",
    "\n",
    "\n",
    "# https://www.sciencedirect.com/science/article/pii/S0143749612000103?casa_token=D7Ai3sGpUxQAAAAA:1-4qyEJVk9hVCwdG-v1fFVVwKeAgBbTQDcr0diMWQtP0TwG5Nq0KmNGA6aciT2WjdFyvUONqSzI\n",
    "def volkersen_model(Mat, F_applied):\n",
    "    G_kl, E1, t1, E2, t2, lu, d, b = (Mat.G_kl, Mat.E1, Mat.t1, Mat.E2, Mat.t2, Mat.lu, Mat.d, Mat.b)\n",
    "    E = E1\n",
    "    t = t1\n",
    "\n",
    "    tau_max = F_applied / lu * np.sqrt(G_kl / 2 / E / t / d)\n",
    "\n",
    "    # omega = np.sqrt(G_kl / E / t1 / d * (1 + t1 / t2))\n",
    "    #\n",
    "    # taux = F_applied * omega / 2 / b * (np.cosh(omega * x_array)) / np.sinh(omega * lu / 2) + (t1 - t2) / (t1 + t2) * omega * lu / 2 * np.sinh(omega * x_array) / np.cosh(omega * lu / 2)\n",
    "    return tau_max\n",
    "\n",
    "\n",
    "F = 50e3\n",
    "N = 50\n",
    "lengths = np.array([10, 15, 20, 25, 30, 50]) * 1e-3\n",
    "\n",
    "w = 3\n",
    "h = 2\n",
    "fig, axs = plt.subplots(w, h, figsize=(22, 16))\n",
    "matplotlib.rc('font', **{'size': 13})\n",
    "fig.suptitle(\"Shear stress distribution in an adherent\")\n",
    "\n",
    "\n",
    "for idx, length in enumerate(lengths):\n",
    "    Mat1 = Material(t1=2e-3, t2=2e-3, b=20e-3, E1=70e9, E2=70e9, G_kl=2e9, d=0.3e-3, lu=length)\n",
    "\n",
    "    xs, taux_klein = klein_model(N, Mat1, F)\n",
    "    tau_max_volk = volkersen_model(Mat1, F)\n",
    "\n",
    "    idx1 = idx % h\n",
    "    idx2 = int(idx / h)\n",
    "\n",
    "    axs[idx2][idx1].plot(xs * 1e3, taux_klein / 1e6, label=\"Klein model\")\n",
    "    axs[idx2][idx1].plot(xs[[0, -1]] * 1e3, [tau_max_volk / 1e6, tau_max_volk / 1e6], label=\"Volkersen model\")\n",
    "    axs[idx2][idx1].set_xlabel(r\"X coordinates $[mm]$\")\n",
    "    axs[idx2][idx1].set_ylabel(r\"Shear stress $[MPa]$\")\n",
    "    axs[idx2][idx1].legend()\n",
    "    axs[idx2][idx1].grid()\n",
    "    axs[idx2][idx1].set_ylim(0, 900)\n",
    "\n",
    "fig.tight_layout()\n",
    "plt.show()\n"
   ]
  },
  {
   "cell_type": "markdown",
   "source": [
    "In the image above the results for Klein and Volkersen model are given for various lengths of the joint. Klein model yields the typical bathtub curve while Volkersen model gives constant distribution based on $\\tau_{max}$ at the edges. To calculate the shear distribution according to Klein model the equation below was used:\n",
    "\\begin{equation}\n",
    "\\tau(\\mathrm{x})=\\frac{\\omega \\cdot \\tau_{\\mathrm{m}}}{(\\beta+2) \\cdot(\\cosh \\omega-1)}\\left[\\sinh \\left(\\omega\\left(1-\\frac{\\mathrm{x}}{l_{u}}\\right)\\right)+(\\beta+1) \\sinh \\left(\\omega \\frac{\\mathrm{x}}{l_{u}}\\right)\\right]\n",
    "\\end{equation}\n",
    "where\n",
    "\\begin{equation}\n",
    "\\omega=\\lambda \\cdot l_u=\\sqrt{\\frac{G_{K 1}\\left(E_1 \\cdot t_1+E_2 \\cdot t_2\\right) l_{u}^2}{E_1 \\cdot t_1 \\cdot E_2 \\cdot t_2 \\cdot d}}\n",
    "\\end{equation}\n",
    "\\begin{equation}\n",
    "\\tau_m = \\frac{F}{l_u b}\n",
    "\\end{equation}\n",
    "and\n",
    "\\begin{equation}\n",
    "\\beta=\\frac{\\left(E_2 \\cdot t_2-E_1 \\cdot t_1\\right) G_{K 1} \\cdot l_u^2}{E_1 \\cdot t_1\\left(G_{K 1} \\cdot l_u{ }^2+E_2 \\cdot t_2 \\cdot d\\right)}\n",
    "\\end{equation}\n",
    "The variables are defined as G_kl ($G_{K1}$) for the shear modulus of the adhesive, E1 ($E_1$) for stiffness of the top sheet, t1 ($t_1$) for thickness of the top sheet, E2 ($E_2$) for stiffness of the bottom sheet, t2 ($t_2$) for thickness of the bottom sheet, lu ($l_u$) for length of the joint d ($d$) for thickness if the adhesive, b ($b$) for the width of the panel. $\\tau_m$ is the mean stress and is calculated by dividing the applied force by the lenght and width of the join.\n",
    "Volkersen model was calculated using:\n",
    "\\begin{equation}\n",
    "\\tau_{max} = \\frac{F}{l_u} \\sqrt{\\frac{G_{Kl}}{2 E t t_k}}\n",
    "\\end{equation}\n",
    "This model can only gives the maximum stress at the ends of the joint and can only be used if both adherents have the same stiffness as the stiffness term $E$ is not specified for a specific panel."
   ],
   "metadata": {
    "collapsed": false
   }
  },
  {
   "cell_type": "markdown",
   "metadata": {},
   "source": [
    "Answer:\n",
    "The main difference between the two models is that the Volkersen model only gives the stress distribution at the edges of the joint that is then distributed along the length of the joint. As a consequence, the stress at the middle of the joint is overestimated, unlike in the Klein model which is capable of predicting the typical \"bathtub\" shape of adhesive joints. Furthermore, Volkersen model predicts higher stress than Klein for small joints and vice-versa for large joints.\n",
    "\n",
    "On the other hand, both models show stresses decreasing as the length of the joint is decreasing which is correct, although the reduction of stress is too rapid for the Volkersen model."
   ]
  },
  {
   "cell_type": "markdown",
   "metadata": {},
   "source": [
    "### Question 1.2 (2 points)\n",
    "\n",
    "#### Show how the stress distribution changes when the thickness of the bottom adherend increases to 3mm and 4mm. Create a plot. Why can you expect these shapes of the curves? Answer in the textbox below your plot. Use the Klein model."
   ]
  },
  {
   "cell_type": "code",
   "execution_count": null,
   "metadata": {},
   "outputs": [],
   "source": [
    "fig, axs = plt.subplots(1)\n",
    "fig.suptitle(\"Shear stress distribution in an adherent (Klein method)\")\n",
    "\n",
    "thickness_list = np.array([2, 3, 4]) * 1e-3\n",
    "\n",
    "for idx, t in enumerate(thickness_list):\n",
    "    Mat1 = Material(t1=t, t2=2e-3, b=20e-3, E1=70e9, E2=70e9, G_kl=2e9, d=0.3e-3, lu=30e-3)\n",
    "\n",
    "    xs, taux_klein = klein_model(N, Mat1, F)\n",
    "\n",
    "    axs.plot(xs * 1e3, taux_klein / 1e6, label=f\"thickness = {t * 1e3} mm\")\n",
    "\n",
    "matplotlib.rc('font', **{'size': 8})\n",
    "axs.set_xlabel(r\"X coordinates $[mm]$\")\n",
    "axs.set_ylabel(r\"Shear stress $[MPa]$\")\n",
    "axs.legend()\n",
    "axs.grid()\n",
    "\n",
    "fig.tight_layout()\n",
    "plt.show()\n",
    "\n"
   ]
  },
  {
   "cell_type": "markdown",
   "metadata": {},
   "source": [
    "Answer:\n",
    "In the figure above the stress distribution for a constant length joint is shown with various thicknesses of the bottom plate. It can be seen that as the asymmetry of the joint increases (the thicknesses of the plates becomes more different) the stress distribution becomes more asymmetric. This is because the thinner plate is less stiff and allows for more strain difference between the plates on the right side thus creating larger shear stress in the adhesive. On the left side of the joint the opposite effect takes place - top plate is highly stressed and more stiff but bottom plates is less stiff while experiencing low stress. Thus, the stress and stiffness differences between the two plates partially cancel out and reduce the shear stress in the adhesive. Both of reduced stress on the left side of the joint and increased stress on the right side of the joint can be seen in the figure generated using Klein model."
   ]
  },
  {
   "cell_type": "markdown",
   "metadata": {},
   "source": [
    "### Question 2 (2 points)\n",
    "\n",
    "#### In reality, shear stresses are not the only stresses acting on the lap joint. Due to eccentricity, another type of stress occurs which will lower the maximum carrying capacity. Elaborate on this type of stress and why it effects the maximum load that can be carried."
   ]
  },
  {
   "cell_type": "markdown",
   "metadata": {},
   "source": [
    "Answer:\n",
    "In addition to the shear stress, the edges of the join will experience peel stresses. A joint with an eccentricity (like a lap joint) experiences \"secondary bending\" under a tensile load. This bending is quantified by measuring the \"out-of-plane displacements of the neutral line of the joint\". This bending of the neutral axis induces stresses normal to the substrate surface that have a peel action. Similarly to the shear stress, the peel stresses are especially large at the edges of the joint. The maximum load that an adhesively bonded lap joint can have is therefore limited by the peel stress experienced which needs to be lower than the maximum allowable. Sometimes, peel stressed can be higher than the maximum allowable peel stress even when the shear stresses are below the maximum allowable shear stress.\n",
    "\n",
    "(Schijve, Jaap. (2009). Fatigue of Structures and Materials. 10.1007/978-1-4020-6808-9., Mallick, P.K. (2007). Fiber-Reinforced Composites: Materials, Manufacturing, and Design, Third Edition (3rd ed.). CRC Press. https://doi.org/10.1201/9781420005981, Shigley JE, Mischke CR. Adhesive bonding and design considerations. In: Mechanical engineering design, 6th ed. McGraw-Hill; 2003. p. 562–78 (Chapters 9–11).)"
   ]
  },
  {
   "cell_type": "markdown",
   "metadata": {},
   "source": [
    "### Question 3 (2 points)\n",
    "\n",
    "#### Explain how step joints and scarf joints help in increasing the maximum carrying load, compared to lap joints. Do this by globally analyzing the differences between the 3 joint types, and how these differences result in different stresses."
   ]
  },
  {
   "cell_type": "markdown",
   "metadata": {},
   "source": [
    "Answer:\n",
    "The fundamental difference between a lap joint and a scarf joint is the shear stress distribution (in the adhesive) over the length of the overlap. While the adhesive in a lap joint experiences a bathtub distribution, in an ideal scarf joint, the stress is constant along the entire length. Therefore, while the adhesive in a lap joint will have high peaks at the edges that rapidly lower into a relatively low value, the scarf joint will have the adhesive carrying the load homogeneously. This aspect of the scarf joint results is a lower maximum shear stress (for the same load and surface area). A lower maximum shear stress experienced results in a larger maximum carrying load, using the same material.\n",
    "\n",
    "In both lap and scarf joints, the load is gradually transferred by the adhesive over the overlap length by an adherent to the other. The lack of the \"bathtub\" effect in a scarf joint is due to the fact that the cross-section of the adherents changes gradually over the overlap. The gradual change in thickness implies a change in stiffness of the adherent. The gradual change in thickness is matched by the gradual introduction of the load such that the deformation of an adherent's section with a lower thickness and a lower experienced stress matches the deformation of the other adherent's section with a larger thickness and a larger load. A step joint has characteristics of both a step and a scarf joint as it is intrinsically a sequence of smaller steps arranged with the geometry of a scarf joint section (alternatively could be called a discretised scarf joint). Depending on the number of steps and the length of the overlap, the deformation of the adherents may match more closely that of a lap joint or a scarf joint. For each of the constant-thickness sections, the stresses peak at the edges. The larger peaks stay at the absolute edges of the overlap and are larger than those of a scarf joint since the change in thickness is not gradually matching the shear stress transfer but are smaller than the peaks of a lap joint as the difference in deformation of the adherents is smaller. Coinciding with the thickness drops, a rapid change in the shear stress is experienced as the surfaces are perpendicular to the load direction.\n",
    "\n",
    "There is a further remarkable advantage that scarf and step joints have over lap joint, it is the lack of secondary bending.This also contributes in raising the maximum carrying load.\n",
    "\n",
    "The pictures illustrate the differences between the 3 different stress distributions, caused by the different geometries as explained above (SLJ = single lap joint).\n",
    "(Picture from Barbosa, N.G.C., Campilho, R.D.S.G., Silva, F.J.G. et al. Comparison of different adhesively-bonded joint types for mechanical structures. Appl Adhes Sci 6, 15 (2018).)\n",
    "![title](Joint_comparison.png)"
   ]
  },
  {
   "cell_type": "markdown",
   "metadata": {},
   "source": [
    "### Question 4.1 (3 points)\n",
    "\n",
    "#### The number of steps $n$ in a step joint has an effect on the shear-stress distribution in the bonded part. Write a function that takes the number of steps of the step joint as input, and returns the stress distribution over the entire bond length. Assume the steps are always equally spaced. Use the Volkersen model.\n",
    "\n",
    "#### Show your results by creating a plot below, which shows $\\tau$ over the given length of 30mm for different values of $n$. Assume the same material properties as in Question 1."
   ]
  },
  {
   "cell_type": "markdown",
   "source": [
    "We used the Klein model as stated in the BrightSpace announcement. It is assumed that the joint is flush, and the convention is that the left panel is the 'top' panel. Since this model is valid only for the situation depicted in question 1.1, we must make some crude assumptions on the load transfer. The first of these is that an equal load is transferred over all steps. The second is that the adherents in every step strain as if only the load transferred over the step is applied, neglecting any bypass loads to subsequent steps. This is obviously inaccurate since a significant bypass load is present for many of the steps, altering the strain distributions of the adherents and consequently the shear strain in the adhesive.\n",
    "\n",
    "A more accurate model of the load case is given by:\n",
    "Erdogan, F., & Ratwani, M. (1971). Stress Distribution in Bonded Joints. Journal of Composite Materials, 5(3), 378–393. https://doi.org/10.1177/002199837100500308\n",
    "\n",
    "In this analysis, a set of equations describing the tensile loads in the adherents is obtained, which is solved using boundary conditions at each step edge. Solving the equations leads to constants from which the adhesive shear distribution can be determined."
   ],
   "metadata": {
    "collapsed": false
   }
  },
  {
   "cell_type": "code",
   "execution_count": null,
   "metadata": {},
   "outputs": [],
   "source": [
    "fig, axs = plt.subplots(1)\n",
    "\n",
    "n = 5\n",
    "fstep = F / n\n",
    "tstep = 2e-3 / (n+1)\n",
    "lustep = 30e-3 / n\n",
    "t1list = np.linspace(tstep, 2e-3, n, endpoint=False)\n",
    "t2list = 2e-3 - t1list\n",
    "\n",
    "for idx in range(n):\n",
    "    Mat1 = Material(t1=t1list[idx], t2=t2list[idx], b=20e-3, E1=70e9, E2=70e9, G_kl=2e9, d=0.3e-3, lu=lustep)\n",
    "\n",
    "    xs, taux_klein = klein_model(N, Mat1, fstep)\n",
    "\n",
    "    axs.plot((xs + lustep*idx) * 1e3 , taux_klein / 1e6, color='tab:blue')\n",
    "\n",
    "fig.suptitle(f\"Shear stress distribution in an adherent (Klein method), n = {n}\")\n",
    "matplotlib.rc('font', **{'size': 8})\n",
    "axs.set_xlabel(r\"X coordinates $[mm]$\")\n",
    "axs.set_ylabel(r\"Shear stress $[MPa]$\")\n",
    "axs.grid()\n",
    "\n",
    "fig.tight_layout()\n",
    "plt.show()"
   ]
  },
  {
   "cell_type": "markdown",
   "source": [],
   "metadata": {
    "collapsed": false
   }
  },
  {
   "cell_type": "markdown",
   "metadata": {},
   "source": [
    "### Question 4.2 (2 points)\n",
    "\n",
    "#### What happens when $n$ approaches infinity? Plot this using your code from question 4.1. Explain why the shape makes sense. Do this by comparing a step joint with $n$ steps and a scarf joint."
   ]
  },
  {
   "cell_type": "code",
   "execution_count": null,
   "outputs": [],
   "source": [
    "fig, axs = plt.subplots(1)\n",
    "fig.suptitle(f\"Shear stress distribution in an adherent (Klein method)\")\n",
    "\n",
    "nlist = [5, 10, 100, 1000]\n",
    "colorlist = ['tab:blue', 'tab:orange', 'tab:green', 'tab:purple']\n",
    "\n",
    "for i, n in enumerate(nlist):\n",
    "    fstep = F / n\n",
    "    tstep = 2e-3 / (n+1)\n",
    "    lustep = 30e-3 / n\n",
    "    t1list = np.linspace(tstep, 2e-3, n, endpoint=False)\n",
    "    t2list = 2e-3 - t1list\n",
    "\n",
    "    for idx in range(n):\n",
    "        Mat1 = Material(t1=t1list[idx], t2=t2list[idx], b=20e-3, E1=70e9, E2=70e9, G_kl=2e9, d=0.3e-3, lu=lustep)\n",
    "\n",
    "        xs, taux_klein = klein_model(N, Mat1, fstep)\n",
    "\n",
    "        axs.plot((xs + lustep*idx) * 1e3 , taux_klein / 1e6, color=colorlist[i])\n",
    "\n",
    "\n",
    "\n",
    "\n",
    "matplotlib.rc('font', **{'size': 8})\n",
    "axs.set_xlabel(r\"X coordinates $[mm]$\")\n",
    "axs.set_ylabel(r\"Shear stress $[MPa]$\")\n",
    "axs.grid()\n",
    "\n",
    "fig.tight_layout()\n",
    "plt.show()"
   ],
   "metadata": {
    "collapsed": false
   }
  },
  {
   "cell_type": "markdown",
   "source": [
    "As n approaches a very large number the distribution moves towards a constant shear stress throughout the joint. This makes sense because with increasing n the step joint geometrically approaches a scarf joint."
   ],
   "metadata": {
    "collapsed": false
   }
  },
  {
   "cell_type": "markdown",
   "metadata": {},
   "source": [
    "### Question 5.1 (3 points)\n",
    "\n",
    "#### Consider the scarf joint from the image below. Write a function that takes angle $\\alpha$ as input and returns the shear- and tensile stresses. Then, use your function to plot the shear- and tensile stresses vs $\\alpha$ for $0^{\\circ} <\\alpha<90 ^{\\circ} $\n",
    "\n",
    "#### The thickness $t$ of the part is 20 mm, the width $b$ is 30 mm. The part is subjected to a tensile force of 10 kN."
   ]
  },
  {
   "cell_type": "markdown",
   "metadata": {},
   "source": [
    "![title](scarfjoint.png)"
   ]
  },
  {
   "cell_type": "code",
   "execution_count": null,
   "metadata": {},
   "outputs": [],
   "source": []
  },
  {
   "cell_type": "markdown",
   "metadata": {},
   "source": [
    "### Question 5.2 (3 points)\n",
    "\n",
    "#### At which value for $\\alpha$ does the tensile stress peak? At which value for $\\alpha$ does the shear stress peak? Explain why this makes sense. Plot a graph, which contains bond-area vs. $\\alpha$, to support your explanation."
   ]
  },
  {
   "cell_type": "code",
   "execution_count": null,
   "metadata": {},
   "outputs": [],
   "source": []
  },
  {
   "cell_type": "markdown",
   "metadata": {},
   "source": [
    "Answer:\n",
    "\n"
   ]
  },
  {
   "cell_type": "code",
   "execution_count": null,
   "metadata": {},
   "outputs": [],
   "source": []
  }
 ],
 "metadata": {
  "kernelspec": {
   "display_name": "Python 3",
   "language": "python",
   "name": "python3"
  },
  "language_info": {
   "codemirror_mode": {
    "name": "ipython",
    "version": 3
   },
   "file_extension": ".py",
   "mimetype": "text/x-python",
   "name": "python",
   "nbconvert_exporter": "python",
   "pygments_lexer": "ipython3",
   "version": "3.6.6"
  },
  "latex_envs": {
   "LaTeX_envs_menu_present": true,
   "autoclose": false,
   "autocomplete": true,
   "bibliofile": "biblio.bib",
   "cite_by": "apalike",
   "current_citInitial": 1,
   "eqLabelWithNumbers": true,
   "eqNumInitial": 1,
   "hotkeys": {
    "equation": "Ctrl-E",
    "itemize": "Ctrl-I"
   },
   "labels_anchors": false,
   "latex_user_defs": false,
   "report_style_numbering": false,
   "user_envs_cfg": false
  }
 },
 "nbformat": 4,
 "nbformat_minor": 2
}
